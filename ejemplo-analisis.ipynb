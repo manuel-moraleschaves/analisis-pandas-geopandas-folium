{
 "cells": [
  {
   "cell_type": "markdown",
   "id": "7215cc76",
   "metadata": {},
   "source": [
    "# Ejemplo de analisis con pandas, geopandas y folium"
   ]
  },
  {
   "cell_type": "markdown",
   "id": "c8583d56",
   "metadata": {},
   "source": [
    "## Entradas"
   ]
  },
  {
   "cell_type": "markdown",
   "id": "2a0df5dc",
   "metadata": {},
   "source": [
    "1. Registros de presencia de especies de murciélagos: en [consulta en el portal de GBIF](https://doi.org/10.15468/dl.kj2qnn).\n",
    "2. Polígonos de ASP: en [servicio WFS del Sinac](http://geos1pne.sirefor.go.cr/wfs)."
   ]
  },
  {
   "cell_type": "markdown",
   "id": "f9e81e2a",
   "metadata": {},
   "source": [
    "## Procesamiento"
   ]
  },
  {
   "cell_type": "code",
   "execution_count": null,
   "id": "71da2164",
   "metadata": {},
   "outputs": [],
   "source": [
    "import math\n",
    "\n",
    "import pandas as pd\n",
    "\n",
    "import matplotlib.pyplot as plt\n",
    "%matplotlib inline\n",
    "\n",
    "import plotly.express as px\n",
    "\n",
    "import geopandas as gpd\n",
    "\n",
    "import folium\n",
    "from folium import Marker\n",
    "from folium.plugins import MarkerCluster\n",
    "from folium.plugins import HeatMap"
   ]
  },
  {
   "cell_type": "markdown",
   "id": "49f9b6e6",
   "metadata": {},
   "source": [
    "### Lectura de datos"
   ]
  },
  {
   "cell_type": "code",
   "execution_count": null,
   "id": "92046dfe",
   "metadata": {},
   "outputs": [],
   "source": [
    "# Carga de registros de presencia de murciélagos en un dataframe de pandas\n",
    "\n",
    "murcielagos = pd.read_csv(\"https://raw.githubusercontent.com/pf3311-cienciadatosgeoespaciales/2021-iii/main/contenido/b/datos/murcielagos.csv\", \n",
    "                          sep=\"\\t\")\n",
    "\n",
    "murcielagos"
   ]
  },
  {
   "cell_type": "code",
   "execution_count": null,
   "id": "a9fce703",
   "metadata": {},
   "outputs": [],
   "source": [
    "# Carga de registros de presencia de murciélagos en un dataframe de pandas\n",
    "\n",
    "asp = gpd.read_file(\"https://github.com/pf3311-cienciadatosgeoespaciales/2021-iii/raw/main/contenido/b/datos/asp.geojson\")\n",
    "\n",
    "asp"
   ]
  },
  {
   "cell_type": "markdown",
   "id": "16673494",
   "metadata": {},
   "source": [
    "### Visualización preliminar"
   ]
  },
  {
   "cell_type": "markdown",
   "id": "2f6e2de8",
   "metadata": {},
   "source": [
    "#### Mapa de puntos agrupados"
   ]
  },
  {
   "cell_type": "code",
   "execution_count": null,
   "id": "cc12505b",
   "metadata": {},
   "outputs": [],
   "source": [
    "# Creación del mapa base\n",
    "m = folium.Map(location=[9.6, -84.2], tiles='CartoDB positron', zoom_start=8)\n",
    "\n",
    "# Capa de ASP\n",
    "folium.GeoJson(data=\"https://github.com/pf3311-cienciadatosgeoespaciales/2021-iii/raw/main/contenido/b/datos/asp.geojson\", \n",
    "               name=\"ASP\").add_to(m)\n",
    "\n",
    "# Capa de registros de presencia de murciélagos agrupados\n",
    "mc = MarkerCluster()\n",
    "for idx, row in murcielagos.iterrows():\n",
    "    if not math.isnan(row['decimalLongitude']) and not math.isnan(row['decimalLatitude']):\n",
    "        mc.add_child(Marker([row['decimalLatitude'], row['decimalLongitude']], popup=row['species']))\n",
    "m.add_child(mc)\n",
    "\n",
    "# Control de capas\n",
    "folium.LayerControl().add_to(m)\n",
    "\n",
    "# Despliegue del mapa\n",
    "m"
   ]
  },
  {
   "cell_type": "markdown",
   "id": "6168a817",
   "metadata": {},
   "source": [
    "#### Mapa de calor"
   ]
  },
  {
   "cell_type": "code",
   "execution_count": null,
   "id": "be5d89b7",
   "metadata": {},
   "outputs": [],
   "source": [
    "# Creación del mapa base\n",
    "m = folium.Map(location=[9.6, -84.2], tiles='CartoDB dark_matter', zoom_start=8)\n",
    "\n",
    "\n",
    "# Capa de ASP\n",
    "folium.GeoJson(data=\"https://github.com/pf3311-cienciadatosgeoespaciales/2021-iii/raw/main/contenido/b/datos/asp.geojson\", \n",
    "               name=\"ASP\").add_to(m)\n",
    "\n",
    "\n",
    "# Capa de calor de registros de presencia de murciélagos\n",
    "HeatMap(data=murcielagos[['decimalLatitude', 'decimalLongitude']], radius=10).add_to(m)\n",
    "\n",
    "# Control de capas\n",
    "folium.LayerControl().add_to(m)\n",
    "\n",
    "# Despliegue del mapa\n",
    "m"
   ]
  },
  {
   "cell_type": "markdown",
   "id": "3a0caca1",
   "metadata": {},
   "source": [
    "### Cálculo de la cantidad de especies en cada ASP"
   ]
  },
  {
   "cell_type": "code",
   "execution_count": null,
   "id": "fce99cfa",
   "metadata": {},
   "outputs": [],
   "source": [
    "murcielagos = gpd.GeoDataFrame(murcielagos, \n",
    "                               geometry=gpd.points_from_xy(murcielagos.decimalLongitude, murcielagos.decimalLatitude))\n",
    "\n",
    "murcielagos"
   ]
  },
  {
   "cell_type": "code",
   "execution_count": null,
   "id": "ea4660e5",
   "metadata": {},
   "outputs": [],
   "source": [
    "# Join espacial de las capas de ASP y registros de presencia de murciélagos\n",
    "\n",
    "asp_contienen_murcielagos = asp.sjoin(murcielagos, how=\"left\", op=\"contains\")\n",
    "\n",
    "# Conteo de especies en cada ASP\n",
    "asp_especies = asp_contienen_murcielagos.groupby(\"id\").species.nunique()\n",
    "asp_especies = asp_especies.reset_index() # para convertir la serie a dataframe\n",
    "\n",
    "asp_especies.rename(columns = {'species': 'cantidad_especies_murcielagos'}, inplace = True)\n",
    "\n",
    "asp_especies"
   ]
  },
  {
   "cell_type": "markdown",
   "id": "9af4b58c",
   "metadata": {},
   "source": [
    "## Salidas"
   ]
  },
  {
   "cell_type": "markdown",
   "id": "7914b81f",
   "metadata": {},
   "source": [
    "### Tabular"
   ]
  },
  {
   "cell_type": "code",
   "execution_count": null,
   "id": "3613ee8e",
   "metadata": {},
   "outputs": [],
   "source": [
    "# Join para agregar la columna con el conteo a la capa de ASP\n",
    "asp_especies = asp_especies.join(asp.set_index('id'), on='id', rsuffix='_b')\n",
    "\n",
    "asp_especies[[\"nombre_asp\", \"cantidad_especies_murcielagos\"]].sort_values(\"cantidad_especies_murcielagos\", ascending=[False])"
   ]
  },
  {
   "cell_type": "markdown",
   "id": "dd9be6c7",
   "metadata": {},
   "source": [
    "### Gráfica"
   ]
  },
  {
   "cell_type": "code",
   "execution_count": null,
   "id": "0c901be7",
   "metadata": {},
   "outputs": [],
   "source": [
    "# Dataframe filtrado para usar en graficación\n",
    "asp_especies_grafico = asp_especies[[\"nombre_asp\", \"cantidad_especies_murcielagos\"]].sort_values(\"cantidad_especies_murcielagos\", ascending=[False]).head(25)\n",
    "\n",
    "asp_especies_grafico"
   ]
  },
  {
   "cell_type": "markdown",
   "id": "e578b4fc",
   "metadata": {},
   "source": [
    "**Matplotlib**"
   ]
  },
  {
   "cell_type": "code",
   "execution_count": null,
   "id": "622136ec",
   "metadata": {},
   "outputs": [],
   "source": [
    "# Graficación\n",
    "asp_especies_grafico.plot(x='nombre_asp', \n",
    "                          y='cantidad_especies_murcielagos', \n",
    "                          kind='bar', \n",
    "                          figsize=(20,10))\n",
    "\n",
    "# Título y leyendas en los ejes\n",
    "plt.title('Cantidad de especies de murciélagos por ASP', fontsize=20)\n",
    "plt.xlabel('ASP', fontsize=16)\n",
    "plt.ylabel('Cantidad de especies', fontsize=16)"
   ]
  },
  {
   "cell_type": "markdown",
   "id": "004e4e2c",
   "metadata": {},
   "source": [
    "**Plotly**"
   ]
  },
  {
   "cell_type": "code",
   "execution_count": null,
   "id": "2cc43019",
   "metadata": {},
   "outputs": [],
   "source": [
    "fig = px.bar(asp_especies_grafico, \n",
    "             x='nombre_asp', \n",
    "             y='cantidad_especies_murcielagos', \n",
    "             labels={'nombre_asp':'ASP', 'cantidad_especies_murcielagos':'Cantidad de especies'},\n",
    "             title=\"Cantidad de especies de murciélagos por ASP\")\n",
    "\n",
    "fig.show()"
   ]
  },
  {
   "cell_type": "markdown",
   "id": "a641b336",
   "metadata": {},
   "source": [
    "### Geoespacial"
   ]
  },
  {
   "cell_type": "code",
   "execution_count": null,
   "id": "4ba5d06c",
   "metadata": {},
   "outputs": [],
   "source": [
    "# Creación del mapa base\n",
    "m = folium.Map(location=[9.8, -84], tiles='CartoDB positron', zoom_start=8)\n",
    "\n",
    "folium.Choropleth(\n",
    "    name=\"Cantidad de especies en ASP\",\n",
    "    geo_data=asp,\n",
    "    data=asp_especies,\n",
    "    columns=['id', 'cantidad_especies_murcielagos'],\n",
    "    bins=8,\n",
    "    key_on='feature.properties.id',\n",
    "    fill_color='Reds', \n",
    "    fill_opacity=0.5, \n",
    "    line_opacity=1,\n",
    "    legend_name='Cantidad de especies de murciélagos',\n",
    "    smooth_factor=0).add_to(m)\n",
    "\n",
    "# Control de capas\n",
    "folium.LayerControl().add_to(m)\n",
    "\n",
    "# Despliegue del mapa\n",
    "m"
   ]
  }
 ],
 "metadata": {
  "kernelspec": {
   "display_name": "Python 3 (ipykernel)",
   "language": "python",
   "name": "python3"
  },
  "language_info": {
   "codemirror_mode": {
    "name": "ipython",
    "version": 3
   },
   "file_extension": ".py",
   "mimetype": "text/x-python",
   "name": "python",
   "nbconvert_exporter": "python",
   "pygments_lexer": "ipython3",
   "version": "3.10.2"
  }
 },
 "nbformat": 4,
 "nbformat_minor": 5
}
